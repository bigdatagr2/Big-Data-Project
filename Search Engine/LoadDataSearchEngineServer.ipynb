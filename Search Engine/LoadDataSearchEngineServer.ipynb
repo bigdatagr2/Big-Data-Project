{
 "cells": [
  {
   "cell_type": "code",
   "execution_count": 1,
   "metadata": {},
   "outputs": [],
   "source": [
    "import json\n",
    "import requests\n",
    "import datetime\n",
    "\n",
    "root = 'http://88.169.46.187:9200'\n",
    "headers = {'Content-Type':'Application/json'}"
   ]
  },
  {
   "cell_type": "code",
   "execution_count": 17,
   "metadata": {},
   "outputs": [
    {
     "data": {
      "text/plain": [
       "{'acknowledged': True,\n",
       " 'index': 'engine-recherche',\n",
       " 'shards_acknowledged': True}"
      ]
     },
     "execution_count": 17,
     "metadata": {},
     "output_type": "execute_result"
    }
   ],
   "source": [
    "# create the mapping for our data\n",
    "# for the search engine i don't change the type of date, as I need to search it as a text/keyword\n",
    "requests.put(root + '/engine-recherche',headers=headers, data=json.dumps(\n",
    "        {\n",
    "            \"settings\": {      \n",
    "              \"analysis\": {\n",
    "                \"normalizer\": {\n",
    "                  \"lowercase_normalizer\": {\n",
    "                    \"type\": \"custom\",\n",
    "                    \"char_filter\": [],\n",
    "                    \"filter\": [\"lowercase\"]\n",
    "                  }\n",
    "                }     \n",
    "              }\n",
    "            },\n",
    "            \"mappings\": {\n",
    "            \"_default_\": {\n",
    "                \"numeric_detection\": 'true',\n",
    "                \"date_detection\": 'true' , \n",
    "                 \"dynamic_templates\": [\n",
    "                  {\n",
    "                  \"lesnames\": {\n",
    "                    \"path_match\": \"*name\",\n",
    "                    \"mapping\": {\n",
    "                      \"type\": \"keyword\",\n",
    "                      \"normalizer\": \"lowercase_normalizer\"\n",
    "                    }\n",
    "                  }\n",
    "                },\n",
    "                {\n",
    "                  \"lesdates\": {\n",
    "                    \"path_match\": \"*date\",\n",
    "                    \"mapping\": {\n",
    "                      \"type\": \"keyword\"\n",
    "                    }\n",
    "                  }\n",
    "                },\n",
    "                {\n",
    "                  \"lereste\": { \n",
    "                    \"match_mapping_type\": \"string\",\n",
    "                    \"mapping\": {\n",
    "                      \"type\": \"text\",\n",
    "                      \"normalizer\": \"lowercase_normalizer\"\n",
    "                    }\n",
    "                  }\n",
    "                }\n",
    "              ]\n",
    "            \n",
    "            }\n",
    "          }\n",
    "        }\n",
    ")).json()"
   ]
  },
  {
   "cell_type": "code",
   "execution_count": 18,
   "metadata": {},
   "outputs": [
    {
     "name": "stdout",
     "output_type": "stream",
     "text": [
      "2018-03-16 23:04:57.694661, 10000\n",
      "2018-03-16 23:06:13.444277, 20000\n",
      "2018-03-16 23:07:35.252973, 30000\n",
      "2018-03-16 23:08:58.106885, 40000\n",
      "2018-03-16 23:11:06.909106, 50000\n",
      "2018-03-16 23:12:38.487244, 60000\n"
     ]
    },
    {
     "data": {
      "text/plain": [
       "<Response [200]>"
      ]
     },
     "execution_count": 18,
     "metadata": {},
     "output_type": "execute_result"
    }
   ],
   "source": [
    "# index of data\n",
    "headers = {'Content-Type':'Application/json'}\n",
    "mydata =\"\"\n",
    "madataset = open('commitsAllTable.json', 'r', 1024*1024*16)\n",
    "i = 1\n",
    "for line in madataset: \n",
    "    jsonLine = json.loads(line)\n",
    "    jsonLine[\"author_date\"] = str(jsonLine[\"author_date\"]).replace(\" UTC\", \"\")\n",
    "    jsonLine[\"committer_date\"] = str(jsonLine[\"committer_date\"]).replace(\" UTC\", \"\")\n",
    "    fullLine = json.dumps({\"index\": {\"_index\": \"engine-recherche\", \"_type\":\"data\", \"_id\": i}}) + '\\n' + json.dumps(jsonLine) + '\\n'\n",
    "    i = i + 1\n",
    "    mydata = mydata + fullLine\n",
    "    if ((i % 10000) == 0):\n",
    "        requests.post(root + '/_bulk', headers=headers, data=mydata.encode('utf-8'))\n",
    "        print(str(datetime.datetime.now()) + \", \" + str(i))\n",
    "        mydata = \"\"\n",
    "        \n",
    "requests.post(root + '/_bulk', headers=headers, data=mydata.encode('utf-8'))"
   ]
  },
  {
   "cell_type": "code",
   "execution_count": 16,
   "metadata": {},
   "outputs": [
    {
     "data": {
      "text/plain": [
       "<Response [200]>"
      ]
     },
     "execution_count": 16,
     "metadata": {},
     "output_type": "execute_result"
    }
   ],
   "source": [
    "# if i have problem so i should delete the index that i have created in order to recreate the new one with the same name\n",
    "requests.delete(root + '/engine-recherche')"
   ]
  },
  {
   "cell_type": "code",
   "execution_count": 10,
   "metadata": {},
   "outputs": [
    {
     "data": {
      "text/plain": [
       "{'acknowledged': True, 'index': 'contents', 'shards_acknowledged': True}"
      ]
     },
     "execution_count": 10,
     "metadata": {},
     "output_type": "execute_result"
    }
   ],
   "source": [
    "requests.put(root + '/contents',headers=headers, data=json.dumps(\n",
    "        {\n",
    "            \"settings\": {      \n",
    "              \"analysis\": {\n",
    "                \"normalizer\": {\n",
    "                  \"lowercase_normalizer\": {\n",
    "                    \"type\": \"custom\",\n",
    "                    \"char_filter\": [],\n",
    "                    \"filter\": [\"lowercase\"]\n",
    "                  }\n",
    "                }     \n",
    "              }\n",
    "            },\n",
    "            \"mappings\": {\n",
    "            \"_default_\": {\n",
    "                \"numeric_detection\": 'true',\n",
    "                \"date_detection\": 'true' , \n",
    "                 \"dynamic_templates\": [\n",
    "                  {\n",
    "                  \"lesnames\": {\n",
    "                    \"path_match\": \"*name\",\n",
    "                    \"mapping\": {\n",
    "                      \"type\": \"keyword\",\n",
    "                      \"normalizer\": \"lowercase_normalizer\"\n",
    "                    }\n",
    "                  }\n",
    "                },\n",
    "                {\n",
    "                  \"lereste\": { \n",
    "                    \"match_mapping_type\": \"string\",\n",
    "                    \"mapping\": {\n",
    "                      \"type\": \"text\",\n",
    "                      \"normalizer\": \"lowercase_normalizer\"\n",
    "                    }\n",
    "                  }\n",
    "                }\n",
    "              ]\n",
    "            \n",
    "            }\n",
    "          }\n",
    "        }\n",
    ")).json()"
   ]
  },
  {
   "cell_type": "code",
   "execution_count": 11,
   "metadata": {},
   "outputs": [
    {
     "name": "stdout",
     "output_type": "stream",
     "text": [
      "2018-03-16 16:39:18.806171, 10000\n",
      "2018-03-16 16:55:37.887625, 20000\n"
     ]
    }
   ],
   "source": [
    "# for contentsTable \n",
    "headers = {'Content-Type':'Application/json'}\n",
    "mydata =\"\"\n",
    "madataset = open('contentsTable.json', 'r', 1024*1024*16)\n",
    "i = 1\n",
    "for line in madataset: \n",
    "    fullLine = json.dumps({\"index\": {\"_index\": \"contents\", \"_type\":\"data\", \"_id\": i}}) + '\\n' + line + '\\n'\n",
    "    i = i + 1\n",
    "    mydata = mydata + fullLine\n",
    "    if ((i % 10000) == 0):\n",
    "        requests.post(root + '/_bulk', headers=headers, data=mydata.encode('utf-8'))\n",
    "        print(str(datetime.datetime.now()) + \", \" + str(i))\n",
    "        mydata = \"\"\n",
    "        \n",
    "requests.post(root + '/_bulk', headers=headers, data=mydata.encode('utf-8'))"
   ]
  },
  {
   "cell_type": "code",
   "execution_count": 9,
   "metadata": {},
   "outputs": [
    {
     "data": {
      "text/plain": [
       "<Response [200]>"
      ]
     },
     "execution_count": 9,
     "metadata": {},
     "output_type": "execute_result"
    }
   ],
   "source": [
    "requests.delete(root + '/contents')"
   ]
  },
  {
   "cell_type": "code",
   "execution_count": null,
   "metadata": {},
   "outputs": [],
   "source": []
  }
 ],
 "metadata": {
  "kernelspec": {
   "display_name": "Python 3",
   "language": "python",
   "name": "python3"
  },
  "language_info": {
   "codemirror_mode": {
    "name": "ipython",
    "version": 3
   },
   "file_extension": ".py",
   "mimetype": "text/x-python",
   "name": "python",
   "nbconvert_exporter": "python",
   "pygments_lexer": "ipython3",
   "version": "3.6.3"
  }
 },
 "nbformat": 4,
 "nbformat_minor": 2
}
