{
 "cells": [
  {
   "cell_type": "code",
   "execution_count": 2,
   "metadata": {},
   "outputs": [],
   "source": [
    "import json\n",
    "import requests\n",
    "import datetime\n",
    "\n",
    "root = 'http://192.168.99.100:9201'\n",
    "headers = {'Content-Type':'Application/json'}"
   ]
  },
  {
   "cell_type": "code",
   "execution_count": 4,
   "metadata": {},
   "outputs": [
    {
     "data": {
      "text/plain": [
       "{'acknowledged': True, 'index': 'bigdata-commits', 'shards_acknowledged': True}"
      ]
     },
     "execution_count": 4,
     "metadata": {},
     "output_type": "execute_result"
    }
   ],
   "source": [
    "requests.put(root + '/bigdata-commits',headers=headers, data=json.dumps(\n",
    "        {\n",
    "            \"mappings\": {\n",
    "            \"_default_\": {\n",
    "                \"numeric_detection\": 'true',\n",
    "                \"date_detection\": 'true' ,           \n",
    "                 \"dynamic_templates\": [\n",
    "                  {\n",
    "                  \"lesnames\": {\n",
    "                    \"path_match\": \"*name\",\n",
    "                    \"mapping\": {\n",
    "                      \"type\": \"keyword\",\n",
    "                      \"analyzer\": \"standard\"\n",
    "                    }\n",
    "                  }\n",
    "                },\n",
    "                {\n",
    "                  \"lesdates\": {\n",
    "                    \"path_match\": \"*date\",\n",
    "                    \"mapping\": {\n",
    "                      \"type\": \"date\",\n",
    "                      \"format\": \"YYYY-MM-DD HH:mm:SS\"\n",
    "                    }\n",
    "                  }\n",
    "                },\n",
    "                {\n",
    "                  \"lereste\": { \n",
    "                    \"match_mapping_type\": \"string\",\n",
    "                    \"mapping\": {\n",
    "                      \"type\": \"text\",\n",
    "                      \"analyzer\": \"standard\"\n",
    "                    }\n",
    "                  }\n",
    "                }\n",
    "              ]\n",
    "            \n",
    "            }\n",
    "          }\n",
    "        }\n",
    ")).json()"
   ]
  },
  {
   "cell_type": "code",
   "execution_count": 6,
   "metadata": {
    "scrolled": true
   },
   "outputs": [
    {
     "name": "stdout",
     "output_type": "stream",
     "text": [
      "2018-03-17 23:32:06.267162, 10000\n",
      "2018-03-17 23:32:12.481469, 20000\n",
      "2018-03-17 23:32:18.270727, 30000\n",
      "2018-03-17 23:32:23.132305, 40000\n",
      "2018-03-17 23:32:30.405324, 50000\n",
      "2018-03-17 23:32:36.074361, 60000\n"
     ]
    },
    {
     "data": {
      "text/plain": [
       "<Response [200]>"
      ]
     },
     "execution_count": 6,
     "metadata": {},
     "output_type": "execute_result"
    }
   ],
   "source": [
    "# the difference with the one in server is the date format. It doesn't accept UTC\n",
    "headers = {'Content-Type':'Application/json'}\n",
    "mydata =\"\"\n",
    "madataset = open('commitsAllTable.json', 'r', 1024*1024*16)\n",
    "i = 1\n",
    "for line in madataset: \n",
    "    jsonLine = json.loads(line)\n",
    "    jsonLine[\"author_date\"] = str(jsonLine[\"author_date\"]).replace(\" UTC\", \"\")\n",
    "    jsonLine[\"committer_date\"] = str(jsonLine[\"committer_date\"]).replace(\" UTC\", \"\")\n",
    "    fullLine = json.dumps({\"index\": {\"_index\": \"bigdata-commits\", \"_type\":\"data\", \"_id\": i}}) + '\\n' + json.dumps(jsonLine) + '\\n'\n",
    "    i = i + 1\n",
    "    mydata = mydata + fullLine\n",
    "    if ((i % 10000) == 0):\n",
    "        requests.post(root + '/_bulk', headers=headers, data=mydata.encode('utf-8'))\n",
    "        print(str(datetime.datetime.now()) + \", \" + str(i))\n",
    "        mydata = \"\"\n",
    "        \n",
    "requests.post(root + '/_bulk', headers=headers, data=mydata.encode('utf-8'))"
   ]
  },
  {
   "cell_type": "code",
   "execution_count": 3,
   "metadata": {},
   "outputs": [
    {
     "data": {
      "text/plain": [
       "<Response [404]>"
      ]
     },
     "execution_count": 3,
     "metadata": {},
     "output_type": "execute_result"
    }
   ],
   "source": [
    "requests.delete(root + '/bigdata-commits')"
   ]
  }
 ],
 "metadata": {
  "kernelspec": {
   "display_name": "Python 3",
   "language": "python",
   "name": "python3"
  },
  "language_info": {
   "codemirror_mode": {
    "name": "ipython",
    "version": 3
   },
   "file_extension": ".py",
   "mimetype": "text/x-python",
   "name": "python",
   "nbconvert_exporter": "python",
   "pygments_lexer": "ipython3",
   "version": "3.6.3"
  }
 },
 "nbformat": 4,
 "nbformat_minor": 2
}
