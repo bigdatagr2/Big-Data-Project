{
 "cells": [
  {
   "cell_type": "code",
   "execution_count": 5,
   "metadata": {},
   "outputs": [
    {
     "name": "stdout",
     "output_type": "stream",
     "text": [
      "Collecting paho-mqtt\n",
      "  Downloading paho-mqtt-1.3.1.tar.gz (80kB)\n",
      "\u001b[K    100% |████████████████████████████████| 81kB 396kB/s \n",
      "\u001b[?25hBuilding wheels for collected packages: paho-mqtt\n",
      "  Running setup.py bdist_wheel for paho-mqtt ... \u001b[?25ldone\n",
      "\u001b[?25h  Stored in directory: /home/rhevi/.cache/pip/wheels/20/d8/0d/acdc8f2890111b7be7de71deebef0642fb83be0313dfff0493\n",
      "Successfully built paho-mqtt\n",
      "Installing collected packages: paho-mqtt\n",
      "Successfully installed paho-mqtt-1.3.1\n",
      "Requirement already satisfied: paho-mqtt in /home/rhevi/.local/lib/python3.6/site-packages\n"
     ]
    }
   ],
   "source": [
    "!pip install --user paho-mqtt\n",
    "!pip3 install --user paho-mqtt"
   ]
  },
  {
   "cell_type": "code",
   "execution_count": 8,
   "metadata": {},
   "outputs": [],
   "source": [
    "import json\n",
    "import requests\n",
    "import paho.mqtt.publish as publish\n",
    "jsonData = 'Test publish mqtt'\n",
    "publish.single(\"test/events\", jsonData , hostname=\"18.188.23.129\")"
   ]
  },
  {
   "cell_type": "code",
   "execution_count": 11,
   "metadata": {},
   "outputs": [
    {
     "data": {
      "text/plain": [
       "['__annotations__',\n",
       " '__call__',\n",
       " '__class__',\n",
       " '__closure__',\n",
       " '__code__',\n",
       " '__defaults__',\n",
       " '__delattr__',\n",
       " '__dict__',\n",
       " '__dir__',\n",
       " '__doc__',\n",
       " '__eq__',\n",
       " '__format__',\n",
       " '__ge__',\n",
       " '__get__',\n",
       " '__getattribute__',\n",
       " '__globals__',\n",
       " '__gt__',\n",
       " '__hash__',\n",
       " '__init__',\n",
       " '__init_subclass__',\n",
       " '__kwdefaults__',\n",
       " '__le__',\n",
       " '__lt__',\n",
       " '__module__',\n",
       " '__name__',\n",
       " '__ne__',\n",
       " '__new__',\n",
       " '__qualname__',\n",
       " '__reduce__',\n",
       " '__reduce_ex__',\n",
       " '__repr__',\n",
       " '__setattr__',\n",
       " '__sizeof__',\n",
       " '__str__',\n",
       " '__subclasshook__']"
      ]
     },
     "metadata": {},
     "output_type": "display_data"
    },
    {
     "data": {
      "text/plain": [
       "<method-wrapper '__call__' of function object at 0x7f0576f65598>"
      ]
     },
     "execution_count": 11,
     "metadata": {},
     "output_type": "execute_result"
    }
   ],
   "source": [
    "display(dir(publish.single))\n"
   ]
  },
  {
   "cell_type": "code",
   "execution_count": 18,
   "metadata": {},
   "outputs": [
    {
     "data": {
      "text/plain": [
       "\u001b[0;31mSignature:\u001b[0m \u001b[0mpublish\u001b[0m\u001b[0;34m.\u001b[0m\u001b[0msingle\u001b[0m\u001b[0;34m(\u001b[0m\u001b[0mtopic\u001b[0m\u001b[0;34m,\u001b[0m \u001b[0mpayload\u001b[0m\u001b[0;34m=\u001b[0m\u001b[0;32mNone\u001b[0m\u001b[0;34m,\u001b[0m \u001b[0mqos\u001b[0m\u001b[0;34m=\u001b[0m\u001b[0;36m0\u001b[0m\u001b[0;34m,\u001b[0m \u001b[0mretain\u001b[0m\u001b[0;34m=\u001b[0m\u001b[0;32mFalse\u001b[0m\u001b[0;34m,\u001b[0m \u001b[0mhostname\u001b[0m\u001b[0;34m=\u001b[0m\u001b[0;34m'localhost'\u001b[0m\u001b[0;34m,\u001b[0m \u001b[0mport\u001b[0m\u001b[0;34m=\u001b[0m\u001b[0;36m1883\u001b[0m\u001b[0;34m,\u001b[0m \u001b[0mclient_id\u001b[0m\u001b[0;34m=\u001b[0m\u001b[0;34m''\u001b[0m\u001b[0;34m,\u001b[0m \u001b[0mkeepalive\u001b[0m\u001b[0;34m=\u001b[0m\u001b[0;36m60\u001b[0m\u001b[0;34m,\u001b[0m \u001b[0mwill\u001b[0m\u001b[0;34m=\u001b[0m\u001b[0;32mNone\u001b[0m\u001b[0;34m,\u001b[0m \u001b[0mauth\u001b[0m\u001b[0;34m=\u001b[0m\u001b[0;32mNone\u001b[0m\u001b[0;34m,\u001b[0m \u001b[0mtls\u001b[0m\u001b[0;34m=\u001b[0m\u001b[0;32mNone\u001b[0m\u001b[0;34m,\u001b[0m \u001b[0mprotocol\u001b[0m\u001b[0;34m=\u001b[0m\u001b[0;36m4\u001b[0m\u001b[0;34m,\u001b[0m \u001b[0mtransport\u001b[0m\u001b[0;34m=\u001b[0m\u001b[0;34m'tcp'\u001b[0m\u001b[0;34m)\u001b[0m\u001b[0;34m\u001b[0m\u001b[0m\n",
       "\u001b[0;31mDocstring:\u001b[0m\n",
       "Publish a single message to a broker, then disconnect cleanly.\n",
       "\n",
       "This function creates an MQTT client, connects to a broker and publishes a\n",
       "single message. Once the message has been delivered, it disconnects cleanly\n",
       "from the broker.\n",
       "\n",
       "topic : the only required argument must be the topic string to which the\n",
       "        payload will be published.\n",
       "\n",
       "payload : the payload to be published. If \"\" or None, a zero length payload\n",
       "          will be published.\n",
       "\n",
       "qos : the qos to use when publishing,  default to 0.\n",
       "\n",
       "retain : set the message to be retained (True) or not (False).\n",
       "\n",
       "hostname : a string containing the address of the broker to connect to.\n",
       "           Defaults to localhost.\n",
       "\n",
       "port : the port to connect to the broker on. Defaults to 1883.\n",
       "\n",
       "client_id : the MQTT client id to use. If \"\" or None, the Paho library will\n",
       "            generate a client id automatically.\n",
       "\n",
       "keepalive : the keepalive timeout value for the client. Defaults to 60\n",
       "            seconds.\n",
       "\n",
       "will : a dict containing will parameters for the client: will = {'topic':\n",
       "       \"<topic>\", 'payload':\"<payload\">, 'qos':<qos>, 'retain':<retain>}.\n",
       "       Topic is required, all other parameters are optional and will\n",
       "       default to None, 0 and False respectively.\n",
       "       Defaults to None, which indicates no will should be used.\n",
       "\n",
       "auth : a dict containing authentication parameters for the client:\n",
       "       auth = {'username':\"<username>\", 'password':\"<password>\"}\n",
       "       Username is required, password is optional and will default to None\n",
       "       if not provided.\n",
       "       Defaults to None, which indicates no authentication is to be used.\n",
       "\n",
       "tls : a dict containing TLS configuration parameters for the client:\n",
       "      dict = {'ca_certs':\"<ca_certs>\", 'certfile':\"<certfile>\",\n",
       "      'keyfile':\"<keyfile>\", 'tls_version':\"<tls_version>\",\n",
       "      'ciphers':\"<ciphers\">}\n",
       "      ca_certs is required, all other parameters are optional and will\n",
       "      default to None if not provided, which results in the client using\n",
       "      the default behaviour - see the paho.mqtt.client documentation.\n",
       "      Defaults to None, which indicates that TLS should not be used.\n",
       "      Alternatively, tls input can be an SSLContext object, which will be\n",
       "      processed using the tls_set_context method.\n",
       "\n",
       "transport : set to \"tcp\" to use the default setting of transport which is\n",
       "      raw TCP. Set to \"websockets\" to use WebSockets as the transport.\n",
       "\u001b[0;31mFile:\u001b[0m      ~/.local/lib/python3.6/site-packages/paho/mqtt/publish.py\n",
       "\u001b[0;31mType:\u001b[0m      function\n"
      ]
     },
     "metadata": {},
     "output_type": "display_data"
    }
   ],
   "source": [
    "?publish.single"
   ]
  }
 ],
 "metadata": {
  "kernelspec": {
   "display_name": "Python 3",
   "language": "python",
   "name": "python3"
  },
  "language_info": {
   "codemirror_mode": {
    "name": "ipython",
    "version": 3
   },
   "file_extension": ".py",
   "mimetype": "text/x-python",
   "name": "python",
   "nbconvert_exporter": "python",
   "pygments_lexer": "ipython3",
   "version": "3.6.4"
  }
 },
 "nbformat": 4,
 "nbformat_minor": 2
}
