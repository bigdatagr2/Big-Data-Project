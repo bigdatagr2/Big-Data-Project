{
 "cells": [
  {
   "cell_type": "code",
   "execution_count": 88,
   "metadata": {},
   "outputs": [],
   "source": [
    "import json\n",
    "import requests\n",
    "import pandas as pd\n",
    "headers = {'Content-Type':'Application/json'}\n",
    "root = 'http://88.169.46.187:9200'\n",
    "database = root + '/github'"
   ]
  },
  {
   "cell_type": "code",
   "execution_count": 95,
   "metadata": {},
   "outputs": [
    {
     "data": {
      "text/plain": [
       "{'task': 'olQOvhaUT--GxXOQEi4oWQ:809252'}"
      ]
     },
     "execution_count": 95,
     "metadata": {},
     "output_type": "execute_result"
    }
   ],
   "source": [
    "requests.post(root + '/github/_update_by_query?wait_for_completion=false&conflicts=proceed',headers=headers, data=json.dumps(\n",
    "                {\n",
    "                  \"script\": \"ctx._source.payload.remove('forkee')\",\n",
    "                  \"query\": {\n",
    "                    \"bool\": {\n",
    "                      \"must\": [\n",
    "                        {\n",
    "                          \"exists\": {\n",
    "                            \"field\": \"payload.forkee\"\n",
    "                          }\n",
    "                        }\n",
    "                      ]\n",
    "                    }\n",
    "                  }\n",
    "                }\n",
    "        )\n",
    "   ).json()"
   ]
  },
  {
   "cell_type": "code",
   "execution_count": 98,
   "metadata": {},
   "outputs": [
    {
     "data": {
      "text/plain": [
       "{'task': 'olQOvhaUT--GxXOQEi4oWQ:939520'}"
      ]
     },
     "execution_count": 98,
     "metadata": {},
     "output_type": "execute_result"
    }
   ],
   "source": [
    "requests.post(root + '/github/_update_by_query?wait_for_completion=false&conflicts=proceed',headers=headers, data=json.dumps(\n",
    "                {\n",
    "                  \"script\": \"ctx._source.remove('payload.issue')\",\n",
    "                  \"query\": {\n",
    "                    \"bool\": {\n",
    "                      \"must\": [\n",
    "                        {\n",
    "                          \"exists\": {\n",
    "                            \"field\": \"payload.issue\"\n",
    "                          }\n",
    "                        }\n",
    "                      ]\n",
    "                    }\n",
    "                  }\n",
    "                }\n",
    "        )\n",
    "   ).json()"
   ]
  },
  {
   "cell_type": "code",
   "execution_count": 69,
   "metadata": {},
   "outputs": [
    {
     "data": {
      "text/plain": [
       "{'task': 'olQOvhaUT--GxXOQEi4oWQ:87715'}"
      ]
     },
     "execution_count": 69,
     "metadata": {},
     "output_type": "execute_result"
    }
   ],
   "source": [
    "requests.post(root + '/github/_update_by_query?wait_for_completion=false&conflicts=proceed',headers=headers, data=json.dumps(\n",
    "                {\n",
    "                  \"script\": \"ctx._source.remove('payload.member')\",\n",
    "                  \"query\": {\n",
    "                    \"bool\": {\n",
    "                      \"must\": [\n",
    "                        {\n",
    "                          \"exists\": {\n",
    "                            \"field\": \"payload.member\"\n",
    "                          }\n",
    "                        }\n",
    "                      ]\n",
    "                    }\n",
    "                  }\n",
    "                }\n",
    "        )\n",
    "   ).json()"
   ]
  },
  {
   "cell_type": "code",
   "execution_count": 30,
   "metadata": {},
   "outputs": [
    {
     "data": {
      "text/plain": [
       "{'task': 'olQOvhaUT--GxXOQEi4oWQ:2380223'}"
      ]
     },
     "execution_count": 30,
     "metadata": {},
     "output_type": "execute_result"
    }
   ],
   "source": [
    "requests.post(root + '/github/_update_by_query?wait_for_completion=false&conflicts=proceed',headers=headers, data=json.dumps(\n",
    "                {\n",
    "                  \"script\": \"ctx._source.remove('payload.release')\",\n",
    "                  \"query\": {\n",
    "                    \"bool\": {\n",
    "                      \"must\": [\n",
    "                        {\n",
    "                          \"exists\": {\n",
    "                            \"field\": \"payload.release\"\n",
    "                          }\n",
    "                        }\n",
    "                      ]\n",
    "                    }\n",
    "                  }\n",
    "                }\n",
    "        )\n",
    "   ).json()"
   ]
  },
  {
   "cell_type": "code",
   "execution_count": 112,
   "metadata": {},
   "outputs": [
    {
     "name": "stdout",
     "output_type": "stream",
     "text": [
      "green open .monitoring-kibana-6-2018.03.15 _UD5jhzDRWmKUOmamlqapQ 1 0     2076       0 602.7kb 602.7kb\n",
      "green open github                          H_o9bNZkT7OnDJUxgaD9sg 1 0 48933634 2192706  87.7gb  87.7gb\n",
      "green open .monitoring-kibana-6-2018.03.16 ZyEfIcAmT46KOYStUoD_qQ 1 0     4224       0   2.1mb   2.1mb\n",
      "green open .monitoring-es-6-2018.03.15     5jWKEcbERMGOJsojg1oCew 1 0    19895      56   8.9mb   8.9mb\n",
      "green open test                            9BgUCrWzQduqxAjcdxoPDQ 2 0        1       0  10.8kb  10.8kb\n",
      "green open .monitoring-es-6-2018.03.16     kSl-BSiIS9mJyoIf2KLbug 1 0    52047      58  28.4mb  28.4mb\n",
      "green open engine-recherche                B81u7A0ES7uu5gDS-BySJg 2 0      100       0  93.9kb  93.9kb\n",
      "green open .kibana                         gQ_qmdccTZeSoi2i-o_sZQ 1 0        2       0  38.5kb  38.5kb\n",
      "green open .tasks                          76JlX8wxR8OmpCrH7NRbvQ 1 0        7       0  44.5kb  44.5kb\n",
      "\n"
     ]
    }
   ],
   "source": [
    "print(requests.get(root + '/_cat/indices').text)"
   ]
  },
  {
   "cell_type": "code",
   "execution_count": 96,
   "metadata": {},
   "outputs": [
    {
     "name": "stdout",
     "output_type": "stream",
     "text": [
      "indices:data/write/update/byquery     olQOvhaUT--GxXOQEi4oWQ:809252 -                             transport 1521184843159 07:20:43 54.5s       172.18.0.2 olQOvha\n",
      "indices:data/read/search              olQOvhaUT--GxXOQEi4oWQ:809253 olQOvhaUT--GxXOQEi4oWQ:809252 transport 1521184843160 07:20:43 54.5s       172.18.0.2 olQOvha\n",
      "indices:data/read/search[phase/query] olQOvhaUT--GxXOQEi4oWQ:809254 olQOvhaUT--GxXOQEi4oWQ:809253 direct    1521184843160 07:20:43 54.5s       172.18.0.2 olQOvha\n",
      "cluster:monitor/tasks/lists           olQOvhaUT--GxXOQEi4oWQ:810299 -                             transport 1521184897703 07:21:37 437.3micros 172.18.0.2 olQOvha\n",
      "cluster:monitor/tasks/lists[n]        olQOvhaUT--GxXOQEi4oWQ:810300 olQOvhaUT--GxXOQEi4oWQ:810299 direct    1521184897703 07:21:37 196.2micros 172.18.0.2 olQOvha\n",
      "\n"
     ]
    }
   ],
   "source": [
    "print(requests.get(root + '/_cat/tasks').text)"
   ]
  },
  {
   "cell_type": "code",
   "execution_count": 94,
   "metadata": {},
   "outputs": [
    {
     "name": "stdout",
     "output_type": "stream",
     "text": [
      "indices:data/write/update/byquery     olQOvhaUT--GxXOQEi4oWQ:160766 -                             transport 1521146846172 20:47:26 51.7s       172.18.0.2 olQOvha\n",
      "indices:data/read/search              olQOvhaUT--GxXOQEi4oWQ:160767 olQOvhaUT--GxXOQEi4oWQ:160766 transport 1521146846173 20:47:26 51.7s       172.18.0.2 olQOvha\n",
      "indices:data/read/search[phase/query] olQOvhaUT--GxXOQEi4oWQ:160768 olQOvhaUT--GxXOQEi4oWQ:160767 direct    1521146846173 20:47:26 51.7s       172.18.0.2 olQOvha\n",
      "cluster:monitor/tasks/lists           olQOvhaUT--GxXOQEi4oWQ:161190 -                             transport 1521146897875 20:48:17 287.9micros 172.18.0.2 olQOvha\n",
      "cluster:monitor/tasks/lists[n]        olQOvhaUT--GxXOQEi4oWQ:161191 olQOvhaUT--GxXOQEi4oWQ:161190 direct    1521146897875 20:48:17 110.6micros 172.18.0.2 olQOvha\n",
      "\n"
     ]
    }
   ],
   "source": [
    "print(requests.get(root + '/_cat/tasks').text)"
   ]
  },
  {
   "cell_type": "code",
   "execution_count": 92,
   "metadata": {},
   "outputs": [
    {
     "name": "stdout",
     "output_type": "stream",
     "text": [
      "cluster:monitor/tasks/lists    olQOvhaUT--GxXOQEi4oWQ:160695 -                             transport 1521146838217 20:47:18 278.5micros 172.18.0.2 olQOvha\n",
      "cluster:monitor/tasks/lists[n] olQOvhaUT--GxXOQEi4oWQ:160696 olQOvhaUT--GxXOQEi4oWQ:160695 direct    1521146838217 20:47:18 90.1micros  172.18.0.2 olQOvha\n",
      "\n"
     ]
    }
   ],
   "source": [
    "print(requests.get(root + '/_cat/tasks').text)"
   ]
  },
  {
   "cell_type": "code",
   "execution_count": 10,
   "metadata": {},
   "outputs": [],
   "source": [
    "requests.delete(root +'/.monitoring-kibana-6-2018.03.10').json()\n",
    "requests.delete(root +'/.monitoring-kibana-6-2018.03.11').json()\n",
    "requests.delete(root +'/.monitoring-kibana-6-2018.03.12').json()\n",
    "requests.delete(root +'/.monitoring-kibana-6-2018.03.13').json()\n",
    "requests.delete(root +'/.monitoring-kibana-6-2018.03.14').json()"
   ]
  },
  {
   "cell_type": "code",
   "execution_count": 11,
   "metadata": {},
   "outputs": [],
   "source": [
    "requests.delete(root +'/.monitoring-es-6-2018.03.09').json()\n",
    "requests.delete(root +'/.monitoring-es-6-2018.03.10').json()\n",
    "requests.delete(root +'/.monitoring-es-6-2018.03.11').json()\n",
    "requests.delete(root +'/.monitoring-es-6-2018.03.12').json()\n",
    "requests.delete(root +'/.monitoring-es-6-2018.03.13').json()\n",
    "requests.delete(root +'/.monitoring-es-6-2018.03.14').json()"
   ]
  },
  {
   "cell_type": "code",
   "execution_count": 68,
   "metadata": {},
   "outputs": [
    {
     "data": {
      "text/plain": [
       "{'acknowledged': True}"
      ]
     },
     "execution_count": 68,
     "metadata": {},
     "output_type": "execute_result"
    }
   ],
   "source": [
    "requests.delete(root +'/.monitoring-es-6-2018.03.15').json()\n",
    "requests.delete(root +'/.monitoring-kibana-6-2018.03.15').json()"
   ]
  },
  {
   "cell_type": "code",
   "execution_count": 79,
   "metadata": {},
   "outputs": [
    {
     "data": {
      "text/plain": [
       "{'acknowledged': True}"
      ]
     },
     "execution_count": 79,
     "metadata": {},
     "output_type": "execute_result"
    }
   ],
   "source": [
    "requests.delete(root +'/.kibana').json()\n",
    "requests.delete(root +'/test').json()"
   ]
  },
  {
   "cell_type": "code",
   "execution_count": 79,
   "metadata": {},
   "outputs": [
    {
     "data": {
      "text/plain": [
       "{'acknowledged': True}"
      ]
     },
     "execution_count": 79,
     "metadata": {},
     "output_type": "execute_result"
    }
   ],
   "source": [
    "requests.delete(root +'/.kibana').json()\n",
    "requests.delete(root +'/test').json()"
   ]
  },
  {
   "cell_type": "code",
   "execution_count": 77,
   "metadata": {},
   "outputs": [
    {
     "name": "stdout",
     "output_type": "stream",
     "text": [
      "b'green open test                            37YMGGI2StCtc6kZyvsCzg 2 0        2      0  69.3kb  69.3kb\\ngreen open .monitoring-kibana-6-2018.03.15 _UD5jhzDRWmKUOmamlqapQ 1 0       25      0 104.6kb 104.6kb\\ngreen open github                          H_o9bNZkT7OnDJUxgaD9sg 1 0 48898125 419728    88gb    88gb\\ngreen open .monitoring-es-6-2018.03.15     5jWKEcbERMGOJsojg1oCew 1 0      272     64   571kb   571kb\\ngreen open .kibana                         -hcEdu4FQhGCzNMj0o-9Ig 2 0        2      0  39.4kb  39.4kb\\ngreen open .tasks                          76JlX8wxR8OmpCrH7NRbvQ 1 0        6      0  38.2kb  38.2kb\\n'\n"
     ]
    }
   ],
   "source": [
    "print(requests.get(root + '/_cat/indices').content)"
   ]
  },
  {
   "cell_type": "code",
   "execution_count": 119,
   "metadata": {},
   "outputs": [
    {
     "name": "stdout",
     "output_type": "stream",
     "text": [
      "green open .monitoring-kibana-6-2018.03.15 _UD5jhzDRWmKUOmamlqapQ 1 0     2076       0 602.7kb 602.7kb\n",
      "green open github                          H_o9bNZkT7OnDJUxgaD9sg 1 0 48933634 2192706  87.7gb  87.7gb\n",
      "green open .monitoring-kibana-6-2018.03.16 ZyEfIcAmT46KOYStUoD_qQ 1 0     5351       0   3.8mb   3.8mb\n",
      "green open .monitoring-es-6-2018.03.15     5jWKEcbERMGOJsojg1oCew 1 0    19895      56   8.9mb   8.9mb\n",
      "green open contents                        -SOyQVuXSrWp6OPX4Gm-6A 2 0        0       0    460b    460b\n",
      "green open test                            9BgUCrWzQduqxAjcdxoPDQ 2 0        1       0  10.8kb  10.8kb\n",
      "green open .monitoring-es-6-2018.03.16     kSl-BSiIS9mJyoIf2KLbug 1 0    66916      72    35mb    35mb\n",
      "green open engine-recherche                B81u7A0ES7uu5gDS-BySJg 2 0      100       0  94.1kb  94.1kb\n",
      "green open .kibana                         gQ_qmdccTZeSoi2i-o_sZQ 1 0        2       0  38.5kb  38.5kb\n",
      "green open .tasks                          76JlX8wxR8OmpCrH7NRbvQ 1 0        7       0  44.5kb  44.5kb\n",
      "\n"
     ]
    }
   ],
   "source": [
    "print(requests.get(root + '/_cat/indices').text)"
   ]
  },
  {
   "cell_type": "code",
   "execution_count": 120,
   "metadata": {},
   "outputs": [
    {
     "name": "stdout",
     "output_type": "stream",
     "text": [
      "green open .monitoring-kibana-6-2018.03.15 _UD5jhzDRWmKUOmamlqapQ 1 0     2076       0 602.7kb 602.7kb\n",
      "green open github                          H_o9bNZkT7OnDJUxgaD9sg 1 0 48933634 2192706  87.7gb  87.7gb\n",
      "green open .monitoring-kibana-6-2018.03.16 ZyEfIcAmT46KOYStUoD_qQ 1 0     6564       0   2.7mb   2.7mb\n",
      "green open .monitoring-es-6-2018.03.15     5jWKEcbERMGOJsojg1oCew 1 0    19895      56   8.9mb   8.9mb\n",
      "green open contents                        -SOyQVuXSrWp6OPX4Gm-6A 2 0    25829       0 109.2mb 109.2mb\n",
      "green open test                            9BgUCrWzQduqxAjcdxoPDQ 2 0        1       0  10.8kb  10.8kb\n",
      "green open .monitoring-es-6-2018.03.16     kSl-BSiIS9mJyoIf2KLbug 1 0    84042      22  42.7mb  42.7mb\n",
      "green open engine-recherche                B81u7A0ES7uu5gDS-BySJg 2 0      100       0  94.1kb  94.1kb\n",
      "green open .kibana                         gQ_qmdccTZeSoi2i-o_sZQ 1 0        7       0  69.8kb  69.8kb\n",
      "green open .tasks                          76JlX8wxR8OmpCrH7NRbvQ 1 0        7       0  44.5kb  44.5kb\n",
      "\n"
     ]
    }
   ],
   "source": [
    "print(requests.get(root + '/_cat/indices').text)"
   ]
  },
  {
   "cell_type": "code",
   "execution_count": 91,
   "metadata": {},
   "outputs": [
    {
     "data": {
      "text/plain": [
       "{'_shards': {'failed': 0, 'successful': 1, 'total': 1}}"
      ]
     },
     "execution_count": 91,
     "metadata": {},
     "output_type": "execute_result"
    }
   ],
   "source": [
    "requests.post(root + '/github/_refresh').json()"
   ]
  },
  {
   "cell_type": "code",
   "execution_count": 105,
   "metadata": {},
   "outputs": [
    {
     "data": {
      "text/plain": [
       "{'github': {'settings': {'index': {'blocks': {'read_only_allow_delete': 'true'},\n",
       "    'creation_date': '1520423714605',\n",
       "    'mapping': {'total_fields': {'limit': '2000'}},\n",
       "    'number_of_replicas': '0',\n",
       "    'number_of_shards': '1',\n",
       "    'provided_name': 'github',\n",
       "    'refresh_interval': '60s',\n",
       "    'uuid': 'H_o9bNZkT7OnDJUxgaD9sg',\n",
       "    'version': {'created': '6020299'}}}}}"
      ]
     },
     "execution_count": 105,
     "metadata": {},
     "output_type": "execute_result"
    }
   ],
   "source": [
    "requests.get(root + '/github/_settings').json()"
   ]
  },
  {
   "cell_type": "code",
   "execution_count": 113,
   "metadata": {},
   "outputs": [
    {
     "name": "stdout",
     "output_type": "stream",
     "text": [
      "{'engine-recherche': {'aliases': {}, 'mappings': {'_default_': {'dynamic_templates': [{'lesnames': {'path_match': '*name', 'mapping': {'normalizer': 'lowercase_normalizer', 'type': 'keyword'}}}, {'lesdates': {'path_match': '*date', 'mapping': {'type': 'keyword'}}}, {'lereste': {'match_mapping_type': 'string', 'mapping': {'normalizer': 'lowercase_normalizer', 'type': 'text'}}}], 'date_detection': True, 'numeric_detection': True}, 'data': {'dynamic_templates': [{'lesnames': {'path_match': '*name', 'mapping': {'normalizer': 'lowercase_normalizer', 'type': 'keyword'}}}, {'lesdates': {'path_match': '*date', 'mapping': {'type': 'keyword'}}}, {'lereste': {'match_mapping_type': 'string', 'mapping': {'normalizer': 'lowercase_normalizer', 'type': 'text'}}}], 'date_detection': True, 'numeric_detection': True, 'properties': {'author_date': {'type': 'keyword'}, 'author_email': {'type': 'text'}, 'author_name': {'type': 'keyword', 'normalizer': 'lowercase_normalizer'}, 'committer_date': {'type': 'keyword'}, 'committer_email': {'type': 'text'}, 'committer_name': {'type': 'keyword', 'normalizer': 'lowercase_normalizer'}, 'committer_time_sec': {'type': 'long'}, 'language_name': {'type': 'keyword', 'normalizer': 'lowercase_normalizer'}, 'message': {'type': 'text'}, 'repo_name': {'type': 'keyword', 'normalizer': 'lowercase_normalizer'}, 'subject': {'type': 'text'}}}}, 'settings': {'index': {'mapping': {'total_fields': {'limit': '2000'}}, 'number_of_shards': '2', 'provided_name': 'engine-recherche', 'creation_date': '1521206448752', 'analysis': {'normalizer': {'lowercase_normalizer': {'filter': ['lowercase'], 'type': 'custom', 'char_filter': []}}}, 'number_of_replicas': '0', 'uuid': 'B81u7A0ES7uu5gDS-BySJg', 'version': {'created': '6020299'}}}}}\n"
     ]
    }
   ],
   "source": [
    "print(requests.get(root + '/engine-recherche').json())"
   ]
  },
  {
   "cell_type": "code",
   "execution_count": 113,
   "metadata": {},
   "outputs": [
    {
     "name": "stdout",
     "output_type": "stream",
     "text": [
      "{'engine-recherche': {'aliases': {}, 'mappings': {'_default_': {'dynamic_templates': [{'lesnames': {'path_match': '*name', 'mapping': {'normalizer': 'lowercase_normalizer', 'type': 'keyword'}}}, {'lesdates': {'path_match': '*date', 'mapping': {'type': 'keyword'}}}, {'lereste': {'match_mapping_type': 'string', 'mapping': {'normalizer': 'lowercase_normalizer', 'type': 'text'}}}], 'date_detection': True, 'numeric_detection': True}, 'data': {'dynamic_templates': [{'lesnames': {'path_match': '*name', 'mapping': {'normalizer': 'lowercase_normalizer', 'type': 'keyword'}}}, {'lesdates': {'path_match': '*date', 'mapping': {'type': 'keyword'}}}, {'lereste': {'match_mapping_type': 'string', 'mapping': {'normalizer': 'lowercase_normalizer', 'type': 'text'}}}], 'date_detection': True, 'numeric_detection': True, 'properties': {'author_date': {'type': 'keyword'}, 'author_email': {'type': 'text'}, 'author_name': {'type': 'keyword', 'normalizer': 'lowercase_normalizer'}, 'committer_date': {'type': 'keyword'}, 'committer_email': {'type': 'text'}, 'committer_name': {'type': 'keyword', 'normalizer': 'lowercase_normalizer'}, 'committer_time_sec': {'type': 'long'}, 'language_name': {'type': 'keyword', 'normalizer': 'lowercase_normalizer'}, 'message': {'type': 'text'}, 'repo_name': {'type': 'keyword', 'normalizer': 'lowercase_normalizer'}, 'subject': {'type': 'text'}}}}, 'settings': {'index': {'mapping': {'total_fields': {'limit': '2000'}}, 'number_of_shards': '2', 'provided_name': 'engine-recherche', 'creation_date': '1521206448752', 'analysis': {'normalizer': {'lowercase_normalizer': {'filter': ['lowercase'], 'type': 'custom', 'char_filter': []}}}, 'number_of_replicas': '0', 'uuid': 'B81u7A0ES7uu5gDS-BySJg', 'version': {'created': '6020299'}}}}}\n"
     ]
    }
   ],
   "source": [
    "print(requests.get(root + '/engine-recherche').json())"
   ]
  },
  {
   "cell_type": "code",
   "execution_count": 114,
   "metadata": {},
   "outputs": [
    {
     "name": "stdout",
     "output_type": "stream",
     "text": [
      "{'took': 2, 'timed_out': False, '_shards': {'total': 2, 'successful': 2, 'skipped': 0, 'failed': 0}, 'hits': {'total': 100, 'max_score': 1.0, 'hits': [{'_index': 'engine-recherche', '_type': 'data', '_id': '3', '_score': 1.0, '_source': {'committer_email': '0ec62ea6484a624425cd34ea6ee504b1d60cca31@apple.com', 'repo_name': 'apple/swift', 'author_email': '0ec62ea6484a624425cd34ea6ee504b1d60cca31@apple.com', 'committer_date': '2017-06-28 01:24:37', 'author_name': 'George Karpenkov', 'committer_time_sec': '1498613077', 'language_name': 'Shell,Batchfile,LLVM,Objective-C,Ruby,Emacs Lisp,C,Vim script,Makefile,Perl,DTrace,Objective-C++,Python,C++,D,Swift,CMake', 'message': 'Add forgotten %target-run for a sanitizer test.\\n', 'author_date': '2017-06-28 01:24:01', 'committer_name': 'George Karpenkov', 'subject': 'Add forgotten %target-run for a sanitizer test.'}}, {'_index': 'engine-recherche', '_type': 'data', '_id': '7', '_score': 1.0, '_source': {'committer_email': '1b4bc63cf9790c932e8467eff6bcebe1944a98d7@apple.com', 'repo_name': 'apple/swift', 'author_email': '1b4bc63cf9790c932e8467eff6bcebe1944a98d7@apple.com', 'committer_date': '2016-01-09 03:56:00', 'author_name': 'Slava Pestov', 'committer_time_sec': '1452311760', 'language_name': 'Shell,Batchfile,LLVM,Objective-C,Ruby,Emacs Lisp,C,Vim script,Makefile,Perl,DTrace,Objective-C++,Python,C++,D,Swift,CMake', 'message': \"SILGen: Emit alloc_global when initializing global variables\\n\\nIt is still not clear to me when we access global variables from other\\nmodules directly, versus using accessors; it seems to be controlled\\nby the -sil-serialize-all flag, rather than any language feature.\\n\\nUntil/if we add a @_fixed_layout equivalent for globals, I can't really\\ntest direct access of globals from other modules; when we figure out\\nthe story here I'll be able to add more tests and also tighten up\\nsome isResilient() checks in the global code, but what's in there now\\nseems to work.\\n\", 'author_date': '2016-01-08 22:12:57', 'committer_name': 'Slava Pestov', 'subject': 'SILGen: Emit alloc_global when initializing global variables'}}, {'_index': 'engine-recherche', '_type': 'data', '_id': '8', '_score': 1.0, '_source': {'committer_email': '20237f4b434bdcccb3b4c7b8643e049a656bb565@apple.com', 'repo_name': 'apple/swift', 'author_email': '20237f4b434bdcccb3b4c7b8643e049a656bb565@apple.com', 'committer_date': '2016-03-04 22:12:15', 'author_name': 'Doug Gregor', 'committer_time_sec': '1457129535', 'language_name': 'Shell,Batchfile,LLVM,Objective-C,Ruby,Emacs Lisp,C,Vim script,Makefile,Perl,DTrace,Objective-C++,Python,C++,D,Swift,CMake', 'message': '[Driver / API Notes] Re-introduce \"-apinotes\" driver flag to compile API notes.\\n\\nUsing Clang to compile API notes introduces a dependency on the\\nunderlying Clang, which can cause problems as Clang\\'s support for API\\nnotes evolves. Re-introduce the \"-apinotes\" driver flag into the Swift\\ndriver to allow us to compile API notes, and use that (rather than\\nClang) to precompile API notes for the overlays.\\n', 'author_date': '2016-03-04 22:12:15', 'committer_name': 'Doug Gregor', 'subject': '[Driver / API Notes] Re-introduce \"-apinotes\" driver flag to compile API notes.'}}, {'_index': 'engine-recherche', '_type': 'data', '_id': '9', '_score': 1.0, '_source': {'committer_email': '20237f4b434bdcccb3b4c7b8643e049a656bb565@apple.com', 'repo_name': 'apple/swift', 'author_email': '20237f4b434bdcccb3b4c7b8643e049a656bb565@apple.com', 'committer_date': '2016-09-02 20:51:00', 'author_name': 'Doug Gregor', 'committer_time_sec': '1472849460', 'language_name': 'Shell,Batchfile,LLVM,Objective-C,Ruby,Emacs Lisp,C,Vim script,Makefile,Perl,DTrace,Objective-C++,Python,C++,D,Swift,CMake', 'message': 'Always create a DefaultArgumentInitializer for a parameter with a default argument.\\n\\nAs with pattern binding initializer contexts, we were trying to\\noptimize away these contexts, leading to an unpredictable AST.\\n', 'author_date': '2016-09-02 01:22:22', 'committer_name': 'Doug Gregor', 'subject': 'Always create a DefaultArgumentInitializer for a parameter with a default argument.'}}, {'_index': 'engine-recherche', '_type': 'data', '_id': '12', '_score': 1.0, '_source': {'committer_email': '20237f4b434bdcccb3b4c7b8643e049a656bb565@apple.com', 'repo_name': 'apple/swift', 'author_email': '20237f4b434bdcccb3b4c7b8643e049a656bb565@apple.com', 'committer_date': '2017-12-19 21:03:29', 'author_name': 'Doug Gregor', 'committer_time_sec': '1513717409', 'language_name': 'Shell,Batchfile,LLVM,Objective-C,Ruby,Emacs Lisp,C,Vim script,Makefile,Perl,DTrace,Objective-C++,Python,C++,D,Swift,CMake', 'message': '[Associated type inference] Use defaults from overridden associated types.\\n\\nDuring associated type inference, also look for default associated type\\nwitnesses from overridden associated types, so that one need not\\nredeclare default associated types at every level in a protocol hierarchy.', 'author_date': '2017-12-19 21:03:29', 'committer_name': 'Doug Gregor', 'subject': '[Associated type inference] Use defaults from overridden associated types.'}}, {'_index': 'engine-recherche', '_type': 'data', '_id': '14', '_score': 1.0, '_source': {'committer_email': '29ab506309b72dc907d353b05ea4f6d161b54b56@apple.com', 'repo_name': 'apple/swift', 'author_email': '29ab506309b72dc907d353b05ea4f6d161b54b56@apple.com', 'committer_date': '2016-07-16 02:45:25', 'author_name': 'Michael Gottesman', 'committer_time_sec': '1468637125', 'language_name': 'Shell,Batchfile,LLVM,Objective-C,Ruby,Emacs Lisp,C,Vim script,Makefile,Perl,DTrace,Objective-C++,Python,C++,D,Swift,CMake', 'message': 'Revert \"A fix for 33023b389f95d1577ee15a10393a2fcc865472bb\"\\n\\nThis reverts commit 220bd9cc5a6f6cbf5be765393d33f58087838639.\\n', 'author_date': '2016-07-16 02:45:25', 'committer_name': 'Michael Gottesman', 'subject': 'Revert \"A fix for 33023b389f95d1577ee15a10393a2fcc865472bb\"'}}, {'_index': 'engine-recherche', '_type': 'data', '_id': '16', '_score': 1.0, '_source': {'committer_email': '45e44b57bdb05b5860015f5d875053cd49a1db00@apple.com', 'repo_name': 'apple/swift', 'author_email': '45e44b57bdb05b5860015f5d875053cd49a1db00@apple.com', 'committer_date': '2017-10-11 03:17:41', 'author_name': 'Huon Wilson', 'committer_time_sec': '1507691861', 'language_name': 'Shell,Batchfile,LLVM,Objective-C,Ruby,Emacs Lisp,C,Vim script,Makefile,Perl,DTrace,Objective-C++,Python,C++,D,Swift,CMake', 'message': '[AST&Sema] Add assertions for conditional conformances.\\n\\nThese are just places that may need updating for conditional\\nconformances, and so having them flag eagerly will help in future.\\n', 'author_date': '2017-09-27 08:01:32', 'committer_name': 'Huon Wilson', 'subject': '[AST&Sema] Add assertions for conditional conformances.'}}, {'_index': 'engine-recherche', '_type': 'data', '_id': '17', '_score': 1.0, '_source': {'committer_email': '45e44b57bdb05b5860015f5d875053cd49a1db00@apple.com', 'repo_name': 'apple/swift', 'author_email': '45e44b57bdb05b5860015f5d875053cd49a1db00@apple.com', 'committer_date': '2017-02-25 03:24:13', 'author_name': 'Huon Wilson', 'committer_time_sec': '1487993053', 'language_name': 'Shell,Batchfile,LLVM,Objective-C,Ruby,Emacs Lisp,C,Vim script,Makefile,Perl,DTrace,Objective-C++,Python,C++,D,Swift,CMake', 'message': '[TypeCheck] Diagnose inheriting from invalid things more reliably.\\n\\nThis in-particular is seemingly needed to cover the (rather broken)\\nfollowing code:\\n\\n    protocol P { associatedtype AT: AT }\\n', 'author_date': '2017-02-24 02:54:04', 'committer_name': 'Huon Wilson', 'subject': '[TypeCheck] Diagnose inheriting from invalid things more reliably.'}}, {'_index': 'engine-recherche', '_type': 'data', '_id': '19', '_score': 1.0, '_source': {'committer_email': '519de0445f5d026953674b4caa743d60a369200e@apple.com', 'repo_name': 'apple/swift', 'author_email': '519de0445f5d026953674b4caa743d60a369200e@apple.com', 'committer_date': '2018-02-02 23:50:47', 'author_name': 'Nathan Hawes', 'committer_time_sec': '1517615447', 'language_name': 'Shell,Batchfile,LLVM,Objective-C,Ruby,Emacs Lisp,C,Vim script,Makefile,Perl,DTrace,Objective-C++,Python,C++,D,Swift,CMake', 'message': '[sourcekitd] xpc_retain MainConnection so it remains valid for sending when cancelled from the other end\\n\\nIf a client crashes and we tried to post notifications to the XPC connection,\\nSourceKitService would go down too, as it never `xpc_retain`ed the connection.\\n\\nResolves rdar://problem/36077481\\n', 'author_date': '2018-02-01 23:40:49', 'committer_name': 'Nathan Hawes', 'subject': '[sourcekitd] xpc_retain MainConnection so it remains valid for sending when cancelled from the other end'}}, {'_index': 'engine-recherche', '_type': 'data', '_id': '20', '_score': 1.0, '_source': {'committer_email': '76c0cb4175fd39528cd5a3b42bd3427b83b9e63c@apple.com', 'repo_name': 'apple/swift', 'author_email': '76c0cb4175fd39528cd5a3b42bd3427b83b9e63c@apple.com', 'committer_date': '2016-07-19 18:09:35', 'author_name': 'Philippe Hausler', 'committer_time_sec': '1468951775', 'language_name': 'Shell,Batchfile,LLVM,Objective-C,Ruby,Emacs Lisp,C,Vim script,Makefile,Perl,DTrace,Objective-C++,Python,C++,D,Swift,CMake', 'message': '[Foundation] Update CharacterSet and NSCharacterSet punctuationCharacters to more consistent naming\\n\\nAddresses rdar://problem/26628434 Swift3: \"whitespaces\"?\\n', 'author_date': '2016-07-19 18:09:35', 'committer_name': 'Philippe Hausler', 'subject': '[Foundation] Update CharacterSet and NSCharacterSet punctuationCharacters to more consistent naming'}}]}}\n"
     ]
    }
   ],
   "source": [
    "print(requests.get(root + '/engine-recherche/_search').json())"
   ]
  },
  {
   "cell_type": "code",
   "execution_count": 102,
   "metadata": {},
   "outputs": [
    {
     "data": {
      "text/plain": [
       "{'engine-recherche': {'settings': {'index': {'analysis': {'normalizer': {'lowercase_normalizer': {'char_filter': [],\n",
       "       'filter': ['lowercase'],\n",
       "       'type': 'custom'}}},\n",
       "    'blocks': {'read_only_allow_delete': 'true'},\n",
       "    'creation_date': '1521196790058',\n",
       "    'mapping': {'total_fields': {'limit': '2000'}},\n",
       "    'number_of_replicas': '0',\n",
       "    'number_of_shards': '2',\n",
       "    'provided_name': 'engine-recherche',\n",
       "    'uuid': 'bqK1NQe8Tv-yRJJbjWUy3w',\n",
       "    'version': {'created': '6020299'}}}}}"
      ]
     },
     "execution_count": 102,
     "metadata": {},
     "output_type": "execute_result"
    }
   ],
   "source": [
    "requests.get(root + '/engine-recherche/_settings').json()"
   ]
  },
  {
   "cell_type": "code",
   "execution_count": 104,
   "metadata": {},
   "outputs": [
    {
     "data": {
      "text/plain": [
       "{'engine-recherche': {'settings': {'index': {'analysis': {'normalizer': {'lowercase_normalizer': {'char_filter': [],\n",
       "       'filter': ['lowercase'],\n",
       "       'type': 'custom'}}},\n",
       "    'blocks': {'read_only_allow_delete': 'false'},\n",
       "    'creation_date': '1521196790058',\n",
       "    'mapping': {'total_fields': {'limit': '2000'}},\n",
       "    'number_of_replicas': '0',\n",
       "    'number_of_shards': '2',\n",
       "    'provided_name': 'engine-recherche',\n",
       "    'uuid': 'bqK1NQe8Tv-yRJJbjWUy3w',\n",
       "    'version': {'created': '6020299'}}}}}"
      ]
     },
     "execution_count": 104,
     "metadata": {},
     "output_type": "execute_result"
    }
   ],
   "source": [
    "requests.get(root + '/engine-recherche/_settings').json()"
   ]
  },
  {
   "cell_type": "code",
   "execution_count": 103,
   "metadata": {},
   "outputs": [
    {
     "data": {
      "text/plain": [
       "{'acknowledged': True}"
      ]
     },
     "execution_count": 103,
     "metadata": {},
     "output_type": "execute_result"
    }
   ],
   "source": [
    "requests.put(root + '/engine-recherche/_settings',headers=headers, data=json.dumps(\n",
    "            {\n",
    "                \"index.blocks.read_only_allow_delete\": False   \n",
    "            } \n",
    "        )\n",
    "   ).json()"
   ]
  },
  {
   "cell_type": "code",
   "execution_count": 116,
   "metadata": {},
   "outputs": [
    {
     "name": "stdout",
     "output_type": "stream",
     "text": [
      "{'contents': {'aliases': {}, 'mappings': {'_default_': {'dynamic_templates': [{'lesnames': {'path_match': '*name', 'mapping': {'index': 'analyzed', 'normalizer': 'lowercase_normalizer', 'type': 'keyword'}}}, {'lereste': {'match_mapping_type': 'string', 'mapping': {'index': 'analyzed', 'normalizer': 'lowercase_normalizer', 'type': 'text'}}}], 'date_detection': True, 'numeric_detection': True}}, 'settings': {'index': {'mapping': {'total_fields': {'limit': '2000'}}, 'number_of_shards': '2', 'provided_name': 'contents', 'creation_date': '1521213957116', 'analysis': {'normalizer': {'lowercase_normalizer': {'filter': ['lowercase'], 'type': 'custom', 'char_filter': []}}}, 'number_of_replicas': '0', 'uuid': '7b0PL98uT-mnnwKzJvBDmw', 'version': {'created': '6020299'}}}}}\n"
     ]
    }
   ],
   "source": [
    "print(requests.get(root + '/contents').json())"
   ]
  }
 ],
 "metadata": {
  "kernelspec": {
   "display_name": "Python 3",
   "language": "python",
   "name": "python3"
  },
  "language_info": {
   "codemirror_mode": {
    "name": "ipython",
    "version": 3
   },
   "file_extension": ".py",
   "mimetype": "text/x-python",
   "name": "python",
   "nbconvert_exporter": "python",
   "pygments_lexer": "ipython3",
   "version": "3.6.4"
  }
 },
 "nbformat": 4,
 "nbformat_minor": 2
}
